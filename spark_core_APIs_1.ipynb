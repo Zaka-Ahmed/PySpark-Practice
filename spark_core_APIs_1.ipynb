{
 "cells": [
  {
   "cell_type": "code",
   "execution_count": 37,
   "id": "43934747-421e-4398-8a6e-66d88efb63cb",
   "metadata": {},
   "outputs": [
    {
     "data": {
      "text/html": [
       "\n",
       "            <div>\n",
       "                <p><b>SparkSession - in-memory</b></p>\n",
       "                \n",
       "        <div>\n",
       "            <p><b>SparkContext</b></p>\n",
       "\n",
       "            <p><a href=\"http://d67395788c35:4040\">Spark UI</a></p>\n",
       "\n",
       "            <dl>\n",
       "              <dt>Version</dt>\n",
       "                <dd><code>v3.3.0</code></dd>\n",
       "              <dt>Master</dt>\n",
       "                <dd><code>local[*]</code></dd>\n",
       "              <dt>AppName</dt>\n",
       "                <dd><code>spark_core_APIs_1</code></dd>\n",
       "            </dl>\n",
       "        </div>\n",
       "        \n",
       "            </div>\n",
       "        "
      ],
      "text/plain": [
       "<pyspark.sql.session.SparkSession at 0x7f2d747356c0>"
      ]
     },
     "execution_count": 37,
     "metadata": {},
     "output_type": "execute_result"
    }
   ],
   "source": [
    "# Creating the Spark Session\n",
    "\n",
    "from pyspark.sql import SparkSession\n",
    "\n",
    "spark = SparkSession \\\n",
    "    .builder \\\n",
    "    .appName(\"spark_core_APIs_1\") \\\n",
    "    .config(\"spark.dynamicAllocation.enabled\",\"False\") \\\n",
    "    .master(\"local[*]\") \\\n",
    "    .getOrCreate()\n",
    "\n",
    "spark"
   ]
  },
  {
   "cell_type": "code",
   "execution_count": 2,
   "id": "a2e1e19d-604c-402f-a838-c2fc4519b038",
   "metadata": {},
   "outputs": [
    {
     "data": {
      "text/html": [
       "\n",
       "            <div>\n",
       "                <p><b>SparkSession - in-memory</b></p>\n",
       "                \n",
       "        <div>\n",
       "            <p><b>SparkContext</b></p>\n",
       "\n",
       "            <p><a href=\"http://d67395788c35:4040\">Spark UI</a></p>\n",
       "\n",
       "            <dl>\n",
       "              <dt>Version</dt>\n",
       "                <dd><code>v3.3.0</code></dd>\n",
       "              <dt>Master</dt>\n",
       "                <dd><code>local[*]</code></dd>\n",
       "              <dt>AppName</dt>\n",
       "                <dd><code>spark_core_APIs_1</code></dd>\n",
       "            </dl>\n",
       "        </div>\n",
       "        \n",
       "            </div>\n",
       "        "
      ],
      "text/plain": [
       "<pyspark.sql.session.SparkSession at 0x7f2d747356c0>"
      ]
     },
     "execution_count": 2,
     "metadata": {},
     "output_type": "execute_result"
    }
   ],
   "source": [
    "spark"
   ]
  },
  {
   "cell_type": "code",
   "execution_count": 3,
   "id": "7ea75ef3-4066-408d-9549-47199d4b291e",
   "metadata": {},
   "outputs": [
    {
     "name": "stdout",
     "output_type": "stream",
     "text": [
      "[1, 4, 9, 16, 25]\n"
     ]
    }
   ],
   "source": [
    "def square(x):\n",
    "    return x ** 2\n",
    "\n",
    "numbers = [1, 2, 3, 4, 5]\n",
    "squared_numbers = list(map(square, numbers))\n",
    "print(squared_numbers)"
   ]
  },
  {
   "cell_type": "code",
   "execution_count": null,
   "id": "68d5c78b-34a1-4b1a-9b71-4e84c2c809a0",
   "metadata": {},
   "outputs": [],
   "source": [
    "numbers = [1, 2, 3, 4, 5]\n",
    "squared_numbers = list(map(lambda x: x *** 2, numbers))\n",
    "print(squared_numbers)"
   ]
  },
  {
   "cell_type": "code",
   "execution_count": 4,
   "id": "3ab3c0eb-bb88-45a4-9e93-15a7b07240aa",
   "metadata": {},
   "outputs": [],
   "source": [
    "my_list = [10, 13, 44, 66, 99, 100]"
   ]
  },
  {
   "cell_type": "code",
   "execution_count": 6,
   "id": "a6a8a3b6-afe4-4c33-89da-0a30d8a74bc3",
   "metadata": {},
   "outputs": [],
   "source": [
    " cubed_numbers= list(map(lambda x: x **3, my_list))"
   ]
  },
  {
   "cell_type": "code",
   "execution_count": 7,
   "id": "87a76b9b-fc19-4ab2-b878-3685b29baa15",
   "metadata": {},
   "outputs": [
    {
     "name": "stdout",
     "output_type": "stream",
     "text": [
      "[1000, 2197, 85184, 287496, 970299, 1000000]\n"
     ]
    }
   ],
   "source": [
    "print(cubed_numbers)"
   ]
  },
  {
   "cell_type": "markdown",
   "id": "e4add1b3-402c-4a11-90d7-f70a217fb9bf",
   "metadata": {},
   "source": [
    "# Reading a File in RDDs (at the core level)"
   ]
  },
  {
   "cell_type": "code",
   "execution_count": 9,
   "id": "df3172ca-80d2-4654-8490-680dc315a82d",
   "metadata": {},
   "outputs": [],
   "source": [
    "orders_rdd = spark.sparkContext.textFile(\"/home/jupyter/module_wise_notebooks/module_4/part-00000\")"
   ]
  },
  {
   "cell_type": "code",
   "execution_count": 11,
   "id": "8b1c0b04-91e5-4a54-bb3e-814e21f745be",
   "metadata": {},
   "outputs": [
    {
     "data": {
      "text/plain": [
       "['1,2013-07-25 00:00:00.0,11599,CLOSED',\n",
       " '2,2013-07-25 00:00:00.0,256,PENDING_PAYMENT',\n",
       " '3,2013-07-25 00:00:00.0,12111,COMPLETE',\n",
       " '4,2013-07-25 00:00:00.0,8827,CLOSED',\n",
       " '5,2013-07-25 00:00:00.0,11318,COMPLETE',\n",
       " '6,2013-07-25 00:00:00.0,7130,COMPLETE',\n",
       " '7,2013-07-25 00:00:00.0,4530,COMPLETE',\n",
       " '8,2013-07-25 00:00:00.0,2911,PROCESSING',\n",
       " '9,2013-07-25 00:00:00.0,5657,PENDING_PAYMENT',\n",
       " '10,2013-07-25 00:00:00.0,5648,PENDING_PAYMENT']"
      ]
     },
     "execution_count": 11,
     "metadata": {},
     "output_type": "execute_result"
    }
   ],
   "source": [
    "orders_rdd.take(10)"
   ]
  },
  {
   "cell_type": "code",
   "execution_count": null,
   "id": "cd956876-5a82-4ed2-81c2-0e3be66dbc95",
   "metadata": {},
   "outputs": [],
   "source": [
    "order_id, order_date, customer_id, order_status"
   ]
  },
  {
   "cell_type": "markdown",
   "id": "a55880d1-746b-4eca-88c2-7288e7f6c4d5",
   "metadata": {},
   "source": [
    "## 1. count the orders under each status\n",
    "## 2. find the premium customers (Top 10 who placed the most number of orders)\n",
    "## 3. distinct count of customers who placed atleast one order\n",
    "## 4. which customers has the maximum number of CLOSED orders\n"
   ]
  },
  {
   "cell_type": "code",
   "execution_count": 12,
   "id": "6a64d7dc-418b-4caa-8fd3-1485b84ec16f",
   "metadata": {},
   "outputs": [
    {
     "data": {
      "text/plain": [
       "['1,2013-07-25 00:00:00.0,11599,CLOSED',\n",
       " '2,2013-07-25 00:00:00.0,256,PENDING_PAYMENT',\n",
       " '3,2013-07-25 00:00:00.0,12111,COMPLETE',\n",
       " '4,2013-07-25 00:00:00.0,8827,CLOSED',\n",
       " '5,2013-07-25 00:00:00.0,11318,COMPLETE']"
      ]
     },
     "execution_count": 12,
     "metadata": {},
     "output_type": "execute_result"
    }
   ],
   "source": [
    "orders_rdd.take(5)"
   ]
  },
  {
   "cell_type": "markdown",
   "id": "a0961cf9-ce71-4f50-9fc2-61e5803dadd8",
   "metadata": {},
   "source": [
    "# count the orders under each status"
   ]
  },
  {
   "cell_type": "raw",
   "id": "a78a78ba-6955-45e9-aef7-0625f7cd5c57",
   "metadata": {},
   "source": [
    "select count(*), order_status from orders group by order_status"
   ]
  },
  {
   "cell_type": "code",
   "execution_count": 14,
   "id": "2097ee7b-0888-44c4-acec-21e1c35500dc",
   "metadata": {},
   "outputs": [],
   "source": [
    "mapped_rdd = orders_rdd.map(lambda x: (x.split(\",\")[3],1))"
   ]
  },
  {
   "cell_type": "code",
   "execution_count": 16,
   "id": "090b8215-33ec-46bb-992a-c3ebc3cf62f3",
   "metadata": {},
   "outputs": [
    {
     "data": {
      "text/plain": [
       "[('CLOSED', 1),\n",
       " ('PENDING_PAYMENT', 1),\n",
       " ('COMPLETE', 1),\n",
       " ('CLOSED', 1),\n",
       " ('COMPLETE', 1),\n",
       " ('COMPLETE', 1),\n",
       " ('COMPLETE', 1),\n",
       " ('PROCESSING', 1),\n",
       " ('PENDING_PAYMENT', 1),\n",
       " ('PENDING_PAYMENT', 1),\n",
       " ('PAYMENT_REVIEW', 1),\n",
       " ('CLOSED', 1),\n",
       " ('PENDING_PAYMENT', 1),\n",
       " ('PROCESSING', 1),\n",
       " ('COMPLETE', 1),\n",
       " ('PENDING_PAYMENT', 1),\n",
       " ('COMPLETE', 1),\n",
       " ('CLOSED', 1),\n",
       " ('PENDING_PAYMENT', 1),\n",
       " ('PROCESSING', 1)]"
      ]
     },
     "execution_count": 16,
     "metadata": {},
     "output_type": "execute_result"
    }
   ],
   "source": [
    "mapped_rdd.take(20)"
   ]
  },
  {
   "cell_type": "code",
   "execution_count": 17,
   "id": "87b1d557-10b9-430d-b542-0bcb219f9485",
   "metadata": {},
   "outputs": [],
   "source": [
    "reduced_rdd = mapped_rdd.reduceByKey(lambda x,y: x+y)"
   ]
  },
  {
   "cell_type": "code",
   "execution_count": 18,
   "id": "f95bd25d-2198-4cf4-9cea-e393e5fb3e03",
   "metadata": {},
   "outputs": [
    {
     "data": {
      "text/plain": [
       "[('CLOSED', 7556),\n",
       " ('CANCELED', 1428),\n",
       " ('PENDING_PAYMENT', 15030),\n",
       " ('COMPLETE', 22899),\n",
       " ('PROCESSING', 8275),\n",
       " ('PAYMENT_REVIEW', 729),\n",
       " ('PENDING', 7610),\n",
       " ('ON_HOLD', 3798),\n",
       " ('SUSPECTED_FRAUD', 1558)]"
      ]
     },
     "execution_count": 18,
     "metadata": {},
     "output_type": "execute_result"
    }
   ],
   "source": [
    "reduced_rdd.collect()"
   ]
  },
  {
   "cell_type": "code",
   "execution_count": 19,
   "id": "90d7b230-0fa6-4070-a4d6-5e6c3db7ae00",
   "metadata": {},
   "outputs": [
    {
     "data": {
      "text/plain": [
       "[('PAYMENT_REVIEW', 729),\n",
       " ('CANCELED', 1428),\n",
       " ('SUSPECTED_FRAUD', 1558),\n",
       " ('ON_HOLD', 3798),\n",
       " ('CLOSED', 7556),\n",
       " ('PENDING', 7610),\n",
       " ('PROCESSING', 8275),\n",
       " ('PENDING_PAYMENT', 15030),\n",
       " ('COMPLETE', 22899)]"
      ]
     },
     "execution_count": 19,
     "metadata": {},
     "output_type": "execute_result"
    }
   ],
   "source": [
    "reduced_sorted = reduced_rdd.sortBy(lambda x:x[1],True)\n",
    "reduced_sorted.collect()"
   ]
  },
  {
   "cell_type": "code",
   "execution_count": 20,
   "id": "6fe604a6-ab3c-4a44-84b3-2405563bf3aa",
   "metadata": {},
   "outputs": [
    {
     "data": {
      "text/plain": [
       "[('COMPLETE', 22899),\n",
       " ('PENDING_PAYMENT', 15030),\n",
       " ('PROCESSING', 8275),\n",
       " ('PENDING', 7610),\n",
       " ('CLOSED', 7556),\n",
       " ('ON_HOLD', 3798),\n",
       " ('SUSPECTED_FRAUD', 1558),\n",
       " ('CANCELED', 1428),\n",
       " ('PAYMENT_REVIEW', 729)]"
      ]
     },
     "execution_count": 20,
     "metadata": {},
     "output_type": "execute_result"
    }
   ],
   "source": [
    "reduced_sorted = reduced_rdd.sortBy(lambda x:x[1],False)\n",
    "reduced_sorted.collect()"
   ]
  },
  {
   "cell_type": "markdown",
   "id": "7acd7c83-1164-4ca5-a5df-ea1c18ed4fad",
   "metadata": {},
   "source": [
    "# 2. find the premium customers (Top 10 who placed the most number of orders)"
   ]
  },
  {
   "cell_type": "code",
   "execution_count": 21,
   "id": "99881fc6-1941-4072-b4a9-71901e6a696a",
   "metadata": {},
   "outputs": [
    {
     "data": {
      "text/plain": [
       "['1,2013-07-25 00:00:00.0,11599,CLOSED',\n",
       " '2,2013-07-25 00:00:00.0,256,PENDING_PAYMENT',\n",
       " '3,2013-07-25 00:00:00.0,12111,COMPLETE',\n",
       " '4,2013-07-25 00:00:00.0,8827,CLOSED',\n",
       " '5,2013-07-25 00:00:00.0,11318,COMPLETE']"
      ]
     },
     "execution_count": 21,
     "metadata": {},
     "output_type": "execute_result"
    }
   ],
   "source": [
    "orders_rdd.take(5)"
   ]
  },
  {
   "cell_type": "code",
   "execution_count": 24,
   "id": "62af60a3-ec3e-410b-bbef-1f580a56909a",
   "metadata": {},
   "outputs": [
    {
     "data": {
      "text/plain": [
       "[('11599', 1),\n",
       " ('256', 1),\n",
       " ('12111', 1),\n",
       " ('8827', 1),\n",
       " ('11318', 1),\n",
       " ('7130', 1),\n",
       " ('4530', 1),\n",
       " ('2911', 1),\n",
       " ('5657', 1),\n",
       " ('5648', 1)]"
      ]
     },
     "execution_count": 24,
     "metadata": {},
     "output_type": "execute_result"
    }
   ],
   "source": [
    "customers_mapped = orders_rdd.map(lambda x:(x.split(\",\")[2],1))\n",
    "customers_mapped.take(10)"
   ]
  },
  {
   "cell_type": "code",
   "execution_count": 27,
   "id": "35155500-3b76-437f-b375-f50843ed724a",
   "metadata": {},
   "outputs": [
    {
     "data": {
      "text/plain": [
       "[('256', 10),\n",
       " ('12111', 6),\n",
       " ('11318', 6),\n",
       " ('7130', 7),\n",
       " ('2911', 6),\n",
       " ('5657', 12),\n",
       " ('9149', 4),\n",
       " ('9842', 7),\n",
       " ('7276', 5),\n",
       " ('9488', 7)]"
      ]
     },
     "execution_count": 27,
     "metadata": {},
     "output_type": "execute_result"
    }
   ],
   "source": [
    "customers_aggregated = customers_mapped.reduceByKey(lambda x,y:x+y)\n",
    "customers_aggregated.take(10)"
   ]
  },
  {
   "cell_type": "code",
   "execution_count": 28,
   "id": "308dbee8-ef6f-42df-b33c-1e8c562b6487",
   "metadata": {},
   "outputs": [],
   "source": [
    "customers_sorted = customers_aggregated.sortBy(lambda x:x[1],False)"
   ]
  },
  {
   "cell_type": "code",
   "execution_count": 29,
   "id": "c760e551-4614-4090-9021-5da501d8d34c",
   "metadata": {},
   "outputs": [
    {
     "data": {
      "text/plain": [
       "[('5897', 16),\n",
       " ('6316', 16),\n",
       " ('12431', 16),\n",
       " ('569', 16),\n",
       " ('4320', 15),\n",
       " ('221', 15),\n",
       " ('5624', 15),\n",
       " ('5283', 15),\n",
       " ('12284', 15),\n",
       " ('5654', 15)]"
      ]
     },
     "execution_count": 29,
     "metadata": {},
     "output_type": "execute_result"
    }
   ],
   "source": [
    "customers_sorted.take(10)"
   ]
  },
  {
   "cell_type": "code",
   "execution_count": null,
   "id": "418b7f3b-a467-4fbd-b3fe-776b01276ddd",
   "metadata": {},
   "outputs": [],
   "source": [
    "select top 10 count(*), order_id from orders group by order_id limit 10"
   ]
  },
  {
   "cell_type": "markdown",
   "id": "555254a8-55b6-4f12-9d89-9a0c4af6b77d",
   "metadata": {},
   "source": [
    "# 3. distinct count of customers who placed atleast one order"
   ]
  },
  {
   "cell_type": "code",
   "execution_count": 32,
   "id": "f1362dda-f89e-416d-b13f-bd431510db20",
   "metadata": {},
   "outputs": [],
   "source": [
    "distinct_customers = orders_rdd.map(lambda x:(x.split(\",\")[2])).distinct()"
   ]
  },
  {
   "cell_type": "code",
   "execution_count": 35,
   "id": "a0c906d1-598a-4cec-9738-c7d287f94d09",
   "metadata": {},
   "outputs": [
    {
     "data": {
      "text/plain": [
       "12405"
      ]
     },
     "execution_count": 35,
     "metadata": {},
     "output_type": "execute_result"
    }
   ],
   "source": [
    "distinct_customers.count()"
   ]
  },
  {
   "cell_type": "code",
   "execution_count": 36,
   "id": "2a51e25d-dd56-4a6a-bc32-7f42fccd64aa",
   "metadata": {},
   "outputs": [
    {
     "data": {
      "text/plain": [
       "68883"
      ]
     },
     "execution_count": 36,
     "metadata": {},
     "output_type": "execute_result"
    }
   ],
   "source": [
    "orders_rdd.distinct().count()"
   ]
  },
  {
   "cell_type": "markdown",
   "id": "0c400b62-4660-43fb-ab6c-17f53fde15c6",
   "metadata": {},
   "source": [
    "# 4. which customers has the maximum number of CLOSED orders"
   ]
  },
  {
   "cell_type": "code",
   "execution_count": 39,
   "id": "a77fd2cc-b942-44da-98ac-458f890bfa07",
   "metadata": {},
   "outputs": [
    {
     "data": {
      "text/plain": [
       "['1,2013-07-25 00:00:00.0,11599,CLOSED',\n",
       " '2,2013-07-25 00:00:00.0,256,PENDING_PAYMENT',\n",
       " '3,2013-07-25 00:00:00.0,12111,COMPLETE',\n",
       " '4,2013-07-25 00:00:00.0,8827,CLOSED',\n",
       " '5,2013-07-25 00:00:00.0,11318,COMPLETE',\n",
       " '6,2013-07-25 00:00:00.0,7130,COMPLETE',\n",
       " '7,2013-07-25 00:00:00.0,4530,COMPLETE',\n",
       " '8,2013-07-25 00:00:00.0,2911,PROCESSING',\n",
       " '9,2013-07-25 00:00:00.0,5657,PENDING_PAYMENT',\n",
       " '10,2013-07-25 00:00:00.0,5648,PENDING_PAYMENT',\n",
       " '11,2013-07-25 00:00:00.0,918,PAYMENT_REVIEW',\n",
       " '12,2013-07-25 00:00:00.0,1837,CLOSED',\n",
       " '13,2013-07-25 00:00:00.0,9149,PENDING_PAYMENT',\n",
       " '14,2013-07-25 00:00:00.0,9842,PROCESSING',\n",
       " '15,2013-07-25 00:00:00.0,2568,COMPLETE',\n",
       " '16,2013-07-25 00:00:00.0,7276,PENDING_PAYMENT',\n",
       " '17,2013-07-25 00:00:00.0,2667,COMPLETE',\n",
       " '18,2013-07-25 00:00:00.0,1205,CLOSED',\n",
       " '19,2013-07-25 00:00:00.0,9488,PENDING_PAYMENT',\n",
       " '20,2013-07-25 00:00:00.0,9198,PROCESSING']"
      ]
     },
     "execution_count": 39,
     "metadata": {},
     "output_type": "execute_result"
    }
   ],
   "source": [
    "orders_rdd.take(20)"
   ]
  },
  {
   "cell_type": "code",
   "execution_count": 40,
   "id": "85345e99-4082-4afd-b4d9-051e39b1fe35",
   "metadata": {},
   "outputs": [],
   "source": [
    "filtered_orders = orders_rdd.filter(lambda x: x.split(\",\")[3] == \"CLOSED\")"
   ]
  },
  {
   "cell_type": "code",
   "execution_count": 41,
   "id": "36beb43a-3166-4bb7-a610-56ffe7f6f941",
   "metadata": {},
   "outputs": [
    {
     "data": {
      "text/plain": [
       "['1,2013-07-25 00:00:00.0,11599,CLOSED',\n",
       " '4,2013-07-25 00:00:00.0,8827,CLOSED',\n",
       " '12,2013-07-25 00:00:00.0,1837,CLOSED',\n",
       " '18,2013-07-25 00:00:00.0,1205,CLOSED',\n",
       " '24,2013-07-25 00:00:00.0,11441,CLOSED',\n",
       " '25,2013-07-25 00:00:00.0,9503,CLOSED',\n",
       " '37,2013-07-25 00:00:00.0,5863,CLOSED',\n",
       " '51,2013-07-25 00:00:00.0,12271,CLOSED',\n",
       " '57,2013-07-25 00:00:00.0,7073,CLOSED',\n",
       " '61,2013-07-25 00:00:00.0,4791,CLOSED']"
      ]
     },
     "execution_count": 41,
     "metadata": {},
     "output_type": "execute_result"
    }
   ],
   "source": [
    "filtered_orders.take(10)"
   ]
  },
  {
   "cell_type": "code",
   "execution_count": 42,
   "id": "de77a04a-4d05-41dc-af85-76c739e67ed0",
   "metadata": {},
   "outputs": [],
   "source": [
    "filtered_mapped = filtered_orders.map(lambda x:(x.split(\",\")[2],1))"
   ]
  },
  {
   "cell_type": "code",
   "execution_count": 43,
   "id": "5cd59872-acb2-45e5-92f9-fc38c667ae99",
   "metadata": {},
   "outputs": [
    {
     "data": {
      "text/plain": [
       "[('11599', 1),\n",
       " ('8827', 1),\n",
       " ('1837', 1),\n",
       " ('1205', 1),\n",
       " ('11441', 1),\n",
       " ('9503', 1),\n",
       " ('5863', 1),\n",
       " ('12271', 1),\n",
       " ('7073', 1),\n",
       " ('4791', 1)]"
      ]
     },
     "execution_count": 43,
     "metadata": {},
     "output_type": "execute_result"
    }
   ],
   "source": [
    "filtered_mapped.take(10)"
   ]
  },
  {
   "cell_type": "code",
   "execution_count": 44,
   "id": "843accad-d9c4-4641-8271-e26c4dfa5974",
   "metadata": {},
   "outputs": [],
   "source": [
    "filtered_aggregated = filtered_mapped.reduceByKey(lambda x,y:x+y)"
   ]
  },
  {
   "cell_type": "code",
   "execution_count": 45,
   "id": "b6a317e7-2798-431c-b38f-29658b830929",
   "metadata": {},
   "outputs": [
    {
     "data": {
      "text/plain": [
       "[('5863', 1), ('12271', 2), ('7073', 1), ('3065', 2), ('5116', 2)]"
      ]
     },
     "execution_count": 45,
     "metadata": {},
     "output_type": "execute_result"
    }
   ],
   "source": [
    "filtered_aggregated.take(5)"
   ]
  },
  {
   "cell_type": "code",
   "execution_count": 46,
   "id": "48abdd67-48ef-4070-9c73-d85f58eb6b41",
   "metadata": {},
   "outputs": [
    {
     "data": {
      "text/plain": [
       "[('1833', 6),\n",
       " ('1363', 5),\n",
       " ('1687', 5),\n",
       " ('5493', 5),\n",
       " ('5011', 4),\n",
       " ('8974', 4),\n",
       " ('2321', 4),\n",
       " ('3736', 4),\n",
       " ('8368', 4),\n",
       " ('2236', 4),\n",
       " ('2403', 4),\n",
       " ('7879', 4),\n",
       " ('1764', 4),\n",
       " ('4588', 4),\n",
       " ('7948', 4),\n",
       " ('7850', 4),\n",
       " ('145', 4),\n",
       " ('4282', 4),\n",
       " ('9213', 4),\n",
       " ('3631', 4),\n",
       " ('1443', 4),\n",
       " ('4573', 4),\n",
       " ('4997', 4),\n",
       " ('10018', 4),\n",
       " ('9740', 4),\n",
       " ('4596', 4),\n",
       " ('2430', 4),\n",
       " ('11833', 4),\n",
       " ('9830', 4),\n",
       " ('9804', 4),\n",
       " ('8630', 4),\n",
       " ('1345', 4),\n",
       " ('437', 4),\n",
       " ('1521', 4),\n",
       " ('569', 4),\n",
       " ('9260', 4),\n",
       " ('2774', 4),\n",
       " ('12431', 4),\n",
       " ('1860', 4),\n",
       " ('5319', 4),\n",
       " ('10263', 4),\n",
       " ('5582', 4),\n",
       " ('2768', 4),\n",
       " ('10111', 4),\n",
       " ('9055', 3),\n",
       " ('10372', 3),\n",
       " ('8309', 3),\n",
       " ('11326', 3),\n",
       " ('8466', 3),\n",
       " ('10255', 3),\n",
       " ('6413', 3),\n",
       " ('4331', 3),\n",
       " ('6339', 3),\n",
       " ('4435', 3),\n",
       " ('7348', 3),\n",
       " ('11476', 3),\n",
       " ('10265', 3),\n",
       " ('1655', 3),\n",
       " ('2842', 3),\n",
       " ('4552', 3),\n",
       " ('3167', 3),\n",
       " ('11175', 3),\n",
       " ('5532', 3),\n",
       " ('645', 3),\n",
       " ('9458', 3),\n",
       " ('6512', 3),\n",
       " ('2467', 3),\n",
       " ('12024', 3),\n",
       " ('2039', 3),\n",
       " ('7029', 3),\n",
       " ('7919', 3),\n",
       " ('3550', 3),\n",
       " ('2137', 3),\n",
       " ('3296', 3),\n",
       " ('3983', 3),\n",
       " ('5721', 3),\n",
       " ('19', 3),\n",
       " ('4866', 3),\n",
       " ('7434', 3),\n",
       " ('9245', 3),\n",
       " ('6425', 3),\n",
       " ('9447', 3),\n",
       " ('8648', 3),\n",
       " ('5284', 3),\n",
       " ('4544', 3),\n",
       " ('664', 3),\n",
       " ('5392', 3),\n",
       " ('5440', 3),\n",
       " ('4944', 3),\n",
       " ('7273', 3),\n",
       " ('4279', 3),\n",
       " ('6461', 3),\n",
       " ('8204', 3),\n",
       " ('5924', 3),\n",
       " ('8457', 3),\n",
       " ('3355', 3),\n",
       " ('8929', 3),\n",
       " ('2201', 3),\n",
       " ('9336', 3),\n",
       " ('1126', 3)]"
      ]
     },
     "execution_count": 46,
     "metadata": {},
     "output_type": "execute_result"
    }
   ],
   "source": [
    "filtered_sorted = filtered_aggregated.sortBy(lambda x:x[1],False)\n",
    "filtered_sorted.take(100)"
   ]
  },
  {
   "cell_type": "code",
   "execution_count": 47,
   "id": "fb6bd4dd-a770-4db3-92a1-3661d61c0cf0",
   "metadata": {},
   "outputs": [
    {
     "data": {
      "text/plain": [
       "[('1833', 6),\n",
       " ('1363', 5),\n",
       " ('1687', 5),\n",
       " ('5493', 5),\n",
       " ('5011', 4),\n",
       " ('8974', 4),\n",
       " ('2321', 4),\n",
       " ('3736', 4),\n",
       " ('8368', 4),\n",
       " ('2236', 4)]"
      ]
     },
     "execution_count": 47,
     "metadata": {},
     "output_type": "execute_result"
    }
   ],
   "source": [
    "filtered_sorted.take(10)"
   ]
  },
  {
   "cell_type": "code",
   "execution_count": null,
   "id": "caebef5c-f475-4aba-bc9f-391a9cda5137",
   "metadata": {},
   "outputs": [],
   "source": []
  }
 ],
 "metadata": {
  "kernelspec": {
   "display_name": "Python 3 (ipykernel)",
   "language": "python",
   "name": "python3"
  },
  "language_info": {
   "codemirror_mode": {
    "name": "ipython",
    "version": 3
   },
   "file_extension": ".py",
   "mimetype": "text/x-python",
   "name": "python",
   "nbconvert_exporter": "python",
   "pygments_lexer": "ipython3",
   "version": "3.10.16"
  }
 },
 "nbformat": 4,
 "nbformat_minor": 5
}
