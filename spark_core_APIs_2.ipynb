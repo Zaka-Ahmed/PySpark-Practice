{
 "cells": [
  {
   "cell_type": "code",
   "execution_count": 1,
   "id": "15117ee3-1548-40c3-86e0-f0d9ca355541",
   "metadata": {},
   "outputs": [
    {
     "data": {
      "text/html": [
       "\n",
       "            <div>\n",
       "                <p><b>SparkSession - in-memory</b></p>\n",
       "                \n",
       "        <div>\n",
       "            <p><b>SparkContext</b></p>\n",
       "\n",
       "            <p><a href=\"http://d67395788c35:4040\">Spark UI</a></p>\n",
       "\n",
       "            <dl>\n",
       "              <dt>Version</dt>\n",
       "                <dd><code>v3.3.0</code></dd>\n",
       "              <dt>Master</dt>\n",
       "                <dd><code>local[*]</code></dd>\n",
       "              <dt>AppName</dt>\n",
       "                <dd><code>spark_core_APIs_1</code></dd>\n",
       "            </dl>\n",
       "        </div>\n",
       "        \n",
       "            </div>\n",
       "        "
      ],
      "text/plain": [
       "<pyspark.sql.session.SparkSession at 0x7f84532a5600>"
      ]
     },
     "execution_count": 1,
     "metadata": {},
     "output_type": "execute_result"
    }
   ],
   "source": [
    "# Creating the Spark Session\n",
    "\n",
    "from pyspark.sql import SparkSession\n",
    "\n",
    "spark = SparkSession \\\n",
    "    .builder \\\n",
    "    .appName(\"spark_core_APIs_1\") \\\n",
    "    .config(\"spark.dynamicAllocation.enabled\",\"False\") \\\n",
    "    .master(\"local[*]\") \\\n",
    "    .getOrCreate()\n",
    "\n",
    "spark"
   ]
  },
  {
   "cell_type": "code",
   "execution_count": 2,
   "id": "dbb1c2ba-a459-41f1-9ad7-22ae872dd6b7",
   "metadata": {},
   "outputs": [],
   "source": [
    "orders_rdd = spark.sparkContext.textFile(\"/home/jupyter/module_wise_notebooks/module_4/part-00000\")"
   ]
  },
  {
   "cell_type": "code",
   "execution_count": 7,
   "id": "8cf7e4e5-9386-41f3-9e6b-e5e263aaef07",
   "metadata": {},
   "outputs": [
    {
     "data": {
      "text/plain": [
       "68883"
      ]
     },
     "execution_count": 7,
     "metadata": {},
     "output_type": "execute_result"
    }
   ],
   "source": [
    "orders_rdd.distinct().count()"
   ]
  },
  {
   "cell_type": "code",
   "execution_count": 8,
   "id": "6f0cf178-6c6e-4243-9cd0-86c0cd091bd2",
   "metadata": {},
   "outputs": [],
   "source": [
    "words = (\"big\",\"Data\",\"Is\",\"SUPER\",\"Interesting\",\"BIG\",\"data\",\"IS\",\"A\",\"Trending\",\"technology\") # is a local file"
   ]
  },
  {
   "cell_type": "code",
   "execution_count": 9,
   "id": "4fb9c374-6e79-41f6-8ba1-4dbe56b31575",
   "metadata": {},
   "outputs": [],
   "source": [
    "words_rdd = spark.sparkContext.parallelize(words)"
   ]
  },
  {
   "cell_type": "code",
   "execution_count": 10,
   "id": "d1595b9c-9664-4ded-ba2d-12c1ecdf32a2",
   "metadata": {},
   "outputs": [
    {
     "data": {
      "text/plain": [
       "['big', 'Data']"
      ]
     },
     "execution_count": 10,
     "metadata": {},
     "output_type": "execute_result"
    }
   ],
   "source": [
    "words_rdd.take(2)"
   ]
  },
  {
   "cell_type": "code",
   "execution_count": 11,
   "id": "3d13f31d-15c9-450d-a638-dd46f9b71689",
   "metadata": {},
   "outputs": [
    {
     "data": {
      "text/plain": [
       "4"
      ]
     },
     "execution_count": 11,
     "metadata": {},
     "output_type": "execute_result"
    }
   ],
   "source": [
    "words_rdd.getNumPartitions()"
   ]
  },
  {
   "cell_type": "code",
   "execution_count": 12,
   "id": "e5f16d9a-b859-4e70-8850-666da3081c56",
   "metadata": {},
   "outputs": [
    {
     "data": {
      "text/plain": [
       "4"
      ]
     },
     "execution_count": 12,
     "metadata": {},
     "output_type": "execute_result"
    }
   ],
   "source": [
    "spark.sparkContext.defaultParallelism"
   ]
  },
  {
   "cell_type": "code",
   "execution_count": 13,
   "id": "4f5a08dd-0a79-4a6c-8070-94409401d1bf",
   "metadata": {},
   "outputs": [],
   "source": [
    "orders_rdd = spark.sparkContext.textFile(\"/home/jupyter/module_wise_notebooks/module_4/part-00000\") # 3mbs"
   ]
  },
  {
   "cell_type": "code",
   "execution_count": 14,
   "id": "ea5cf19e-c742-41e0-84f5-f33ffd33b1d5",
   "metadata": {},
   "outputs": [
    {
     "data": {
      "text/plain": [
       "2"
      ]
     },
     "execution_count": 14,
     "metadata": {},
     "output_type": "execute_result"
    }
   ],
   "source": [
    "orders_rdd.getNumPartitions()"
   ]
  },
  {
   "cell_type": "code",
   "execution_count": 16,
   "id": "0490a114-07fb-49c7-bc9c-8db77a253a00",
   "metadata": {},
   "outputs": [
    {
     "data": {
      "text/plain": [
       "2"
      ]
     },
     "execution_count": 16,
     "metadata": {},
     "output_type": "execute_result"
    }
   ],
   "source": [
    "spark.sparkContext.defaultMinPartitions"
   ]
  },
  {
   "cell_type": "code",
   "execution_count": 17,
   "id": "7d891da2-eab3-4af1-bec4-473433992955",
   "metadata": {},
   "outputs": [
    {
     "data": {
      "text/plain": [
       "['big', 'Data', 'Is', 'SUPER', 'Interesting']"
      ]
     },
     "execution_count": 17,
     "metadata": {},
     "output_type": "execute_result"
    }
   ],
   "source": [
    "words_rdd.take(5)"
   ]
  },
  {
   "cell_type": "markdown",
   "id": "b1346786-d6ce-4d4c-879b-44d0991973e5",
   "metadata": {},
   "source": [
    "### we want to count the freq of each word"
   ]
  },
  {
   "cell_type": "raw",
   "id": "8447aacf-1024-4afa-a018-93a6f92f5316",
   "metadata": {},
   "source": [
    "words = (\"big\",\"Data\",\"Is\",\"SUPER\",\"Interesting\",\"BIG\",\"data\",\"IS\",\"A\",\"Trending\",\"technology\") # is a local file"
   ]
  },
  {
   "cell_type": "code",
   "execution_count": 18,
   "id": "4567e7c6-6714-4fd2-af01-cd6c19aeb624",
   "metadata": {},
   "outputs": [],
   "source": [
    "normalized_words_rdd = words_rdd.map(lambda word: word.lower())"
   ]
  },
  {
   "cell_type": "code",
   "execution_count": 19,
   "id": "db3cdf2f-4641-4964-874f-c9c403849481",
   "metadata": {},
   "outputs": [
    {
     "data": {
      "text/plain": [
       "['big',\n",
       " 'data',\n",
       " 'is',\n",
       " 'super',\n",
       " 'interesting',\n",
       " 'big',\n",
       " 'data',\n",
       " 'is',\n",
       " 'a',\n",
       " 'trending',\n",
       " 'technology']"
      ]
     },
     "execution_count": 19,
     "metadata": {},
     "output_type": "execute_result"
    }
   ],
   "source": [
    "normalized_words_rdd.collect()"
   ]
  },
  {
   "cell_type": "code",
   "execution_count": 20,
   "id": "f5161643-eae5-4252-b576-67b6c26e2bf0",
   "metadata": {},
   "outputs": [],
   "source": [
    " mapped_words_rdd = normalized_words_rdd.map(lambda word: (word,1))"
   ]
  },
  {
   "cell_type": "code",
   "execution_count": 21,
   "id": "68b597f4-d4db-42ca-86ef-fe7db89a3340",
   "metadata": {},
   "outputs": [
    {
     "data": {
      "text/plain": [
       "[('big', 1),\n",
       " ('data', 1),\n",
       " ('is', 1),\n",
       " ('super', 1),\n",
       " ('interesting', 1),\n",
       " ('big', 1),\n",
       " ('data', 1),\n",
       " ('is', 1),\n",
       " ('a', 1),\n",
       " ('trending', 1),\n",
       " ('technology', 1)]"
      ]
     },
     "execution_count": 21,
     "metadata": {},
     "output_type": "execute_result"
    }
   ],
   "source": [
    "mapped_words_rdd.collect()"
   ]
  },
  {
   "cell_type": "code",
   "execution_count": 22,
   "id": "43cd358f-c2cf-47c1-861e-83ec51246d71",
   "metadata": {},
   "outputs": [],
   "source": [
    "reduced_words_rdd = mapped_words_rdd.reduceByKey(lambda word1,word2: word1+word2)"
   ]
  },
  {
   "cell_type": "code",
   "execution_count": 24,
   "id": "81867bff-e9f6-411f-8094-773c13fde3b7",
   "metadata": {},
   "outputs": [
    {
     "data": {
      "text/plain": [
       "[('super', 1),\n",
       " ('interesting', 1),\n",
       " ('trending', 1),\n",
       " ('technology', 1),\n",
       " ('a', 1),\n",
       " ('is', 2),\n",
       " ('big', 2),\n",
       " ('data', 2)]"
      ]
     },
     "execution_count": 24,
     "metadata": {},
     "output_type": "execute_result"
    }
   ],
   "source": [
    "reduced_words_rdd.collect()"
   ]
  },
  {
   "cell_type": "code",
   "execution_count": 25,
   "id": "33f5c30a-4357-47ad-9afb-cec4d1d7e3de",
   "metadata": {},
   "outputs": [
    {
     "data": {
      "text/plain": [
       "['big',\n",
       " 'Data',\n",
       " 'Is',\n",
       " 'SUPER',\n",
       " 'Interesting',\n",
       " 'BIG',\n",
       " 'data',\n",
       " 'IS',\n",
       " 'A',\n",
       " 'Trending',\n",
       " 'technology']"
      ]
     },
     "execution_count": 25,
     "metadata": {},
     "output_type": "execute_result"
    }
   ],
   "source": [
    "words_rdd.collect()"
   ]
  },
  {
   "cell_type": "markdown",
   "id": "8dfe6fba-f014-41c7-9146-b5c45705a5e2",
   "metadata": {},
   "source": [
    "## chaining all the operations"
   ]
  },
  {
   "cell_type": "code",
   "execution_count": 26,
   "id": "b203a830-3b00-4636-a9ec-f33df02541bd",
   "metadata": {},
   "outputs": [
    {
     "data": {
      "text/plain": [
       "[('super', 1),\n",
       " ('interesting', 1),\n",
       " ('trending', 1),\n",
       " ('technology', 1),\n",
       " ('a', 1),\n",
       " ('is', 2),\n",
       " ('big', 2),\n",
       " ('data', 2)]"
      ]
     },
     "execution_count": 26,
     "metadata": {},
     "output_type": "execute_result"
    }
   ],
   "source": [
    "spark.sparkContext.parallelize(words).map(lambda word: word.lower()).map(lambda word: (word,1)).reduceByKey(lambda word1,word2: word1+word2).collect()"
   ]
  },
  {
   "cell_type": "code",
   "execution_count": 27,
   "id": "a6642148-1ca0-4f9b-8ee2-6f869d2404e5",
   "metadata": {},
   "outputs": [
    {
     "data": {
      "text/plain": [
       "[('super', 1),\n",
       " ('interesting', 1),\n",
       " ('trending', 1),\n",
       " ('technology', 1),\n",
       " ('a', 1),\n",
       " ('is', 2),\n",
       " ('big', 2),\n",
       " ('data', 2)]"
      ]
     },
     "execution_count": 27,
     "metadata": {},
     "output_type": "execute_result"
    }
   ],
   "source": [
    "spark. \\\n",
    "sparkContext. \\\n",
    "parallelize(words). \\\n",
    "map(lambda word: word.lower()). \\\n",
    "map(lambda word: (word,1)). \\\n",
    "reduceByKey(lambda word1,word2: word1+word2). \\\n",
    "collect()"
   ]
  },
  {
   "cell_type": "code",
   "execution_count": 30,
   "id": "705b1f2d-504d-4434-a702-f60496383c51",
   "metadata": {},
   "outputs": [
    {
     "data": {
      "text/plain": [
       "[('super', 1),\n",
       " ('interesting', 1),\n",
       " ('trending', 1),\n",
       " ('technology', 1),\n",
       " ('a', 1),\n",
       " ('is', 2),\n",
       " ('big', 2),\n",
       " ('data', 2)]"
      ]
     },
     "execution_count": 30,
     "metadata": {},
     "output_type": "execute_result"
    }
   ],
   "source": [
    "spark \\\n",
    ".sparkContext \\\n",
    ".parallelize(words) \\\n",
    ".map(lambda word: word.lower()) \\\n",
    ".map(lambda word: (word,1)) \\\n",
    ".reduceByKey(lambda word1,word2: word1+word2) \\\n",
    ".collect()"
   ]
  },
  {
   "cell_type": "code",
   "execution_count": 31,
   "id": "b0962883-9f7b-4792-9966-5c9ec4a87a6d",
   "metadata": {},
   "outputs": [
    {
     "data": {
      "text/plain": [
       "[('1,2013-07-25 00:00:00.0,11599,closed', 1),\n",
       " ('2,2013-07-25 00:00:00.0,256,pending_payment', 1),\n",
       " ('3,2013-07-25 00:00:00.0,12111,complete', 1),\n",
       " ('4,2013-07-25 00:00:00.0,8827,closed', 1),\n",
       " ('9,2013-07-25 00:00:00.0,5657,pending_payment', 1)]"
      ]
     },
     "execution_count": 31,
     "metadata": {},
     "output_type": "execute_result"
    }
   ],
   "source": [
    "spark \\\n",
    ".sparkContext \\\n",
    ".textFile(\"/home/jupyter/module_wise_notebooks/module_4/part-00000\") \\\n",
    ".map(lambda word: word.lower()) \\\n",
    ".map(lambda word: (word,1)) \\\n",
    ".reduceByKey(lambda word1,word2: word1+word2) \\\n",
    ".take(5)"
   ]
  },
  {
   "cell_type": "code",
   "execution_count": 32,
   "id": "7bee9c96-e8f5-4255-a458-afb28c5abf16",
   "metadata": {},
   "outputs": [],
   "source": [
    "resultant_rdd = spark \\\n",
    ".sparkContext \\\n",
    ".parallelize(words) \\\n",
    ".map(lambda word: word.lower()) \\\n",
    ".map(lambda word: (word,1)) \\\n",
    ".reduceByKey(lambda word1,word2: word1 + word2)"
   ]
  },
  {
   "cell_type": "code",
   "execution_count": 33,
   "id": "ce24e2c1-e7ab-4d89-aac7-159a2f25e42d",
   "metadata": {},
   "outputs": [
    {
     "data": {
      "text/plain": [
       "[('super', 1),\n",
       " ('interesting', 1),\n",
       " ('trending', 1),\n",
       " ('technology', 1),\n",
       " ('a', 1),\n",
       " ('is', 2),\n",
       " ('big', 2),\n",
       " ('data', 2)]"
      ]
     },
     "execution_count": 33,
     "metadata": {},
     "output_type": "execute_result"
    }
   ],
   "source": [
    "resultant_rdd.collect()"
   ]
  },
  {
   "cell_type": "code",
   "execution_count": null,
   "id": "56b245bd-8937-4747-8f87-5af58ed9c50d",
   "metadata": {},
   "outputs": [],
   "source": []
  }
 ],
 "metadata": {
  "kernelspec": {
   "display_name": "Python 3 (ipykernel)",
   "language": "python",
   "name": "python3"
  },
  "language_info": {
   "codemirror_mode": {
    "name": "ipython",
    "version": 3
   },
   "file_extension": ".py",
   "mimetype": "text/x-python",
   "name": "python",
   "nbconvert_exporter": "python",
   "pygments_lexer": "ipython3",
   "version": "3.10.16"
  }
 },
 "nbformat": 4,
 "nbformat_minor": 5
}
